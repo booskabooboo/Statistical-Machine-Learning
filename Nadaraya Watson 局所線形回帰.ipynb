{
 "cells": [
  {
   "cell_type": "code",
   "execution_count": 1,
   "id": "d4da6537",
   "metadata": {},
   "outputs": [],
   "source": [
    "# 統計的機械学習の数理第６章　鈴木譲著　を参考にさせていただいた"
   ]
  },
  {
   "cell_type": "code",
   "execution_count": 2,
   "id": "ba64c12d",
   "metadata": {},
   "outputs": [],
   "source": [
    "import numpy as np\n",
    "import matplotlib.pyplot as plt\n",
    "%matplotlib inline\n",
    "\n",
    "np.set_printoptions(precision=2, suppress = True)"
   ]
  },
  {
   "cell_type": "code",
   "execution_count": 3,
   "id": "7565ebeb",
   "metadata": {},
   "outputs": [
    {
     "data": {
      "text/plain": [
       "<matplotlib.collections.PathCollection at 0x26051c96a90>"
      ]
     },
     "execution_count": 3,
     "metadata": {},
     "output_type": "execute_result"
    },
    {
     "data": {
      "image/png": "[encoded data removed]",
      "text/plain": [
       "<Figure size 432x288 with 1 Axes>"
      ]
     },
     "metadata": {
      "needs_background": "light"
     },
     "output_type": "display_data"
    }
   ],
   "source": [
    "N = 50\n",
    "\n",
    "x = np.random.rand(N) * 6 * np.pi\n",
    "y = x * np.sin(x) + 0.3 * np.random.randn(N)\n",
    "\n",
    "plt.scatter(x, y)"
   ]
  },
  {
   "cell_type": "code",
   "execution_count": 4,
   "id": "60804006",
   "metadata": {},
   "outputs": [],
   "source": [
    "#Epanechnikov カーネル\n",
    "def K(x, y, lam):\n",
    "    t = np.abs(x-y)/lam\n",
    "    return np.maximum(0.75*(1-t**2), 0)\n",
    "\n",
    "#各局所点でのベータ推定\n",
    "def local(x, y, z):\n",
    "    n = len(y)\n",
    "    x = x.reshape(-1,1)\n",
    "    X = np.insert(x, 0, 1, axis=1)\n",
    "    yy = []\n",
    "    for u in z:\n",
    "        w = np.zeros(N)\n",
    "        for i in range(N):\n",
    "            w[i]=K(x[i], u, lam=1)\n",
    "        W = np.diag(w)\n",
    "        beta_hat = np.linalg.inv(X.T@W@X)@X.T@W@y\n",
    "        yy.append(beta_hat[0] + beta_hat[1] * u)\n",
    "    return yy"
   ]
  },
  {
   "cell_type": "code",
   "execution_count": 5,
   "id": "5ddf81ff",
   "metadata": {},
   "outputs": [],
   "source": [
    "x_min = np.min(x)\n",
    "x_max = np.max(x)\n",
    "\n",
    "U = np.linspace(x_min, x_max, 40)\n",
    "V = local(x, y, U)"
   ]
  },
  {
   "cell_type": "code",
   "execution_count": 6,
   "id": "715e8f82",
   "metadata": {},
   "outputs": [
    {
     "data": {
      "text/plain": [
       "array([0.32, 0.79, 1.25, 1.72, 2.18, 2.65, 3.12, 3.58, 4.05, 4.51])"
      ]
     },
     "execution_count": 6,
     "metadata": {},
     "output_type": "execute_result"
    }
   ],
   "source": [
    "U[:10]"
   ]
  },
  {
   "cell_type": "code",
   "execution_count": 7,
   "id": "b48d5efe",
   "metadata": {},
   "outputs": [
    {
     "data": {
      "text/plain": [
       "[0.35753630309798057,\n",
       " 0.6056017174692919,\n",
       " 1.2926943188316362,\n",
       " 1.3428878144972332,\n",
       " 1.3488656500406395,\n",
       " 0.9157062707756909,\n",
       " -0.3994781121971691,\n",
       " -1.7978518352082258,\n",
       " -3.2097583884733503,\n",
       " -4.375661385169892]"
      ]
     },
     "execution_count": 7,
     "metadata": {},
     "output_type": "execute_result"
    }
   ],
   "source": [
    "V[:10]"
   ]
  },
  {
   "cell_type": "code",
   "execution_count": 8,
   "id": "bc47607f",
   "metadata": {},
   "outputs": [
    {
     "data": {
      "text/plain": [
       "<matplotlib.legend.Legend at 0x26051d9ffd0>"
      ]
     },
     "execution_count": 8,
     "metadata": {},
     "output_type": "execute_result"
    },
    {
     "data": {
      "image/png": "[encoded data removed]",
      "text/plain": [
       "<Figure size 432x288 with 1 Axes>"
      ]
     },
     "metadata": {
      "needs_background": "light"
     },
     "output_type": "display_data"
    }
   ],
   "source": [
    "plt.scatter(x, y, label = 'data')\n",
    "plt.plot(U, V, c=\"red\", label = ' Nadaraya Watson')\n",
    "plt.legend()"
   ]
  },
  {
   "cell_type": "code",
   "execution_count": null,
   "id": "716b235c",
   "metadata": {},
   "outputs": [],
   "source": []
  }
 ],
 "metadata": {
  "kernelspec": {
   "display_name": "Python 3",
   "language": "python",
   "name": "python3"
  },
  "language_info": {
   "codemirror_mode": {
    "name": "ipython",
    "version": 3
   },
   "file_extension": ".py",
   "mimetype": "text/x-python",
   "name": "python",
   "nbconvert_exporter": "python",
   "pygments_lexer": "ipython3",
   "version": "3.8.8"
  }
 },
 "nbformat": 4,
 "nbformat_minor": 5
}
