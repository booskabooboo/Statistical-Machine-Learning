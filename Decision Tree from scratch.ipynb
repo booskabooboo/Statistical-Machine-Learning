{
 "cells": [
  {
   "cell_type": "code",
   "execution_count": 1,
   "id": "ba1b7344",
   "metadata": {},
   "outputs": [],
   "source": [
    "#分類はできているが、予測までやっていない"
   ]
  },
  {
   "cell_type": "code",
   "execution_count": 2,
   "id": "37825b6a",
   "metadata": {},
   "outputs": [],
   "source": [
    "import numpy as np\n",
    "import matplotlib.pyplot as plt\n",
    "%matplotlib inline\n",
    "\n",
    "np.set_printoptions(precision=2, suppress = True)"
   ]
  },
  {
   "cell_type": "code",
   "execution_count": 3,
   "id": "b92257d4",
   "metadata": {},
   "outputs": [],
   "source": [
    "from sklearn.datasets import load_iris\n",
    "\n",
    "iris = load_iris()\n",
    "N = 150 #max 150\n",
    "\n",
    "X = iris.data\n",
    "y = iris.target"
   ]
  },
  {
   "cell_type": "code",
   "execution_count": 4,
   "id": "58820613",
   "metadata": {},
   "outputs": [
    {
     "data": {
      "text/plain": [
       "array([[5.1, 3.5, 1.4, 0.2],\n",
       "       [4.9, 3. , 1.4, 0.2],\n",
       "       [4.7, 3.2, 1.3, 0.2],\n",
       "       [4.6, 3.1, 1.5, 0.2],\n",
       "       [5. , 3.6, 1.4, 0.2]])"
      ]
     },
     "execution_count": 4,
     "metadata": {},
     "output_type": "execute_result"
    }
   ],
   "source": [
    "X[:5]"
   ]
  },
  {
   "cell_type": "code",
   "execution_count": 5,
   "id": "90b798a7",
   "metadata": {},
   "outputs": [
    {
     "data": {
      "text/plain": [
       "array([0, 0, 0, 0, 0])"
      ]
     },
     "execution_count": 5,
     "metadata": {},
     "output_type": "execute_result"
    }
   ],
   "source": [
    "y[:5]"
   ]
  },
  {
   "cell_type": "code",
   "execution_count": 6,
   "id": "ba91152b",
   "metadata": {},
   "outputs": [],
   "source": [
    "def eval(y):\n",
    "    if len(y)==0:\n",
    "        return 0\n",
    "    else:\n",
    "        y_bar = np.mean(y)\n",
    "        return np.linalg.norm(y - y_bar)**2"
   ]
  },
  {
   "cell_type": "code",
   "execution_count": 7,
   "id": "47691af1",
   "metadata": {},
   "outputs": [],
   "source": [
    "def split(X, y):\n",
    "    \n",
    "    score_best = np.inf\n",
    "    \n",
    "    for j in range(X.shape[1]):\n",
    "        for i in range(X.shape[0]):\n",
    "            left = []\n",
    "            right = []\n",
    "            \n",
    "            for k in range(X.shape[0]):\n",
    "                if X[k,j] < X[i,j]:\n",
    "                    left.append(k)\n",
    "                else:\n",
    "                    right.append(k)\n",
    "            \n",
    "            left_score = eval(y[left])\n",
    "            right_score = eval(y[right])\n",
    "            score = left_score + right_score\n",
    "            \n",
    "            if score < score_best:\n",
    "                left_best = left\n",
    "                right_best = right \n",
    "                score_best = score\n",
    "    \n",
    "    return [left_best, right_best, score_best]"
   ]
  },
  {
   "cell_type": "code",
   "execution_count": 8,
   "id": "bca1f76d",
   "metadata": {},
   "outputs": [
    {
     "name": "stdout",
     "output_type": "stream",
     "text": [
      "len(group_analyze):  1\n",
      "++++++++++++++++++++++++++++++\n",
      "y_analyze:  [0 0 0 0 0 0 0 0 0 0 0 0 0 0 0 0 0 0 0 0 0 0 0 0 0 0 0 0 0 0 0 0 0 0 0 0 0\n",
      " 0 0 0 0 0 0 0 0 0 0 0 0 0 1 1 1 1 1 1 1 1 1 1 1 1 1 1 1 1 1 1 1 1 1 1 1 1\n",
      " 1 1 1 1 1 1 1 1 1 1 1 1 1 1 1 1 1 1 1 1 1 1 1 1 1 1 2 2 2 2 2 2 2 2 2 2 2\n",
      " 2 2 2 2 2 2 2 2 2 2 2 2 2 2 2 2 2 2 2 2 2 2 2 2 2 2 2 2 2 2 2 2 2 2 2 2 2\n",
      " 2 2]\n",
      "split to two groups\n",
      "[0 0 0 0 0 0 0 0 0 0 0 0 0 0 0 0 0 0 0 0 0 0 0 0 0 0 0 0 0 0 0 0 0 0 0 0 0\n",
      " 0 0 0 0 0 0 0 0 0 0 0 0 0]\n",
      "[1 1 1 1 1 1 1 1 1 1 1 1 1 1 1 1 1 1 1 1 1 1 1 1 1 1 1 1 1 1 1 1 1 1 1 1 1\n",
      " 1 1 1 1 1 1 1 1 1 1 1 1 1 2 2 2 2 2 2 2 2 2 2 2 2 2 2 2 2 2 2 2 2 2 2 2 2\n",
      " 2 2 2 2 2 2 2 2 2 2 2 2 2 2 2 2 2 2 2 2 2 2 2 2 2 2]\n",
      "len(group_analyze):  1\n",
      "++++++++++++++++++++++++++++++\n",
      "y_analyze:  [1 1 1 1 1 1 1 1 1 1 1 1 1 1 1 1 1 1 1 1 1 1 1 1 1 1 1 1 1 1 1 1 1 1 1 1 1\n",
      " 1 1 1 1 1 1 1 1 1 1 1 1 1 2 2 2 2 2 2 2 2 2 2 2 2 2 2 2 2 2 2 2 2 2 2 2 2\n",
      " 2 2 2 2 2 2 2 2 2 2 2 2 2 2 2 2 2 2 2 2 2 2 2 2 2 2]\n",
      "split to two groups\n",
      "[1 1 1 1 1 1 1 1 1 1 1 1 1 1 1 1 1 1 1 1 1 1 1 1 1 1 1 1 1 1 1 1 1 1 1 1 1\n",
      " 1 1 1 1 1 1 1 1 1 1 1 1 2 2 2 2 2]\n",
      "[1 2 2 2 2 2 2 2 2 2 2 2 2 2 2 2 2 2 2 2 2 2 2 2 2 2 2 2 2 2 2 2 2 2 2 2 2\n",
      " 2 2 2 2 2 2 2 2 2]\n",
      "len(group_analyze):  2\n",
      "++++++++++++++++++++++++++++++\n",
      "y_analyze:  [1 1 1 1 1 1 1 1 1 1 1 1 1 1 1 1 1 1 1 1 1 1 1 1 1 1 1 1 1 1 1 1 1 1 1 1 1\n",
      " 1 1 1 1 1 1 1 1 1 1 1 1 2 2 2 2 2]\n",
      "split to two groups\n",
      "[1 1 1 1 1 1 1 1 1 1 1 1 1 1 1 1 1 1 1 1 1 1 1 1 1 1 1 1 1 1 1 1 1 1 1 1 1\n",
      " 1 1 1 1 1 1 1 1 1 1 2]\n",
      "[1 1 2 2 2 2]\n",
      "len(group_analyze):  3\n",
      "++++++++++++++++++++++++++++++\n",
      "y_analyze:  [1 2 2 2 2 2 2 2 2 2 2 2 2 2 2 2 2 2 2 2 2 2 2 2 2 2 2 2 2 2 2 2 2 2 2 2 2\n",
      " 2 2 2 2 2 2 2 2 2]\n",
      "split to two groups\n",
      "[1 2 2]\n",
      "[2 2 2 2 2 2 2 2 2 2 2 2 2 2 2 2 2 2 2 2 2 2 2 2 2 2 2 2 2 2 2 2 2 2 2 2 2\n",
      " 2 2 2 2 2 2]\n",
      "len(group_analyze):  2\n",
      "++++++++++++++++++++++++++++++\n",
      "y_analyze:  [1 1 1 1 1 1 1 1 1 1 1 1 1 1 1 1 1 1 1 1 1 1 1 1 1 1 1 1 1 1 1 1 1 1 1 1 1\n",
      " 1 1 1 1 1 1 1 1 1 1 2]\n",
      "split to two groups\n",
      "[1 1 1 1 1 1 1 1 1 1 1 1 1 1 1 1 1 1 1 1 1 1 1 1 1 1 1 1 1 1 1 1 1 1 1 1 1\n",
      " 1 1 1 1 1 1 1 1 1 1]\n",
      "[2]\n",
      "len(group_analyze):  1\n",
      "++++++++++++++++++++++++++++++\n",
      "y_analyze:  [1 1 2 2 2 2]\n",
      "split to two groups\n",
      "[2 2 2]\n",
      "[1 1 2]\n",
      "len(group_analyze):  0\n",
      "++++++++++++++++++++++++++++++\n",
      "No more group to analyze\n",
      "Total_ended:  150\n",
      "End_nodes:  7\n"
     ]
    }
   ],
   "source": [
    "group_analyze = []\n",
    "group_analyze.append([X, y])\n",
    "print('len(group_analyze): ', len(group_analyze))\n",
    "print(\"++++++++++++++++++++++++++++++\")\n",
    "\n",
    "Total_ended = 0\n",
    "End_nodes = 0\n",
    "\n",
    "Survive_number = 5\n",
    "\n",
    "round = 0\n",
    "\n",
    "while len(group_analyze) > 0:\n",
    "\n",
    "    X_analyze = group_analyze[0][0]\n",
    "    y_analyze = group_analyze[0][1]\n",
    "        \n",
    "    print('y_analyze: ', y_analyze)\n",
    "    \n",
    "    left_index = split(X_analyze, y_analyze)[0]\n",
    "    right_index = split(X_analyze, y_analyze)[1]\n",
    "\n",
    "    group_analyze = group_analyze[1:]\n",
    "    \n",
    "    print(\"split to two groups\")\n",
    "    print(y_analyze[left_index])\n",
    "    print(y_analyze[right_index])\n",
    "\n",
    "    if len(left_index) > Survive_number and len(np.unique(y_analyze[left_index])) > 1: \n",
    "        group_analyze.append([X_analyze[left_index], y_analyze[left_index]])\n",
    "    else: \n",
    "        Total_ended = Total_ended + len(left_index)\n",
    "        End_nodes = End_nodes + 1 \n",
    "        \n",
    "    if len(right_index) > Survive_number and len(np.unique(y_analyze[right_index])) > 1: \n",
    "        group_analyze.append([X_analyze[right_index], y_analyze[right_index]])\n",
    "    else: \n",
    "        Total_ended = Total_ended + len(right_index)\n",
    "        End_nodes = End_nodes + 1 \n",
    "        \n",
    "    print('len(group_analyze): ', len(group_analyze))\n",
    "    print(\"++++++++++++++++++++++++++++++\")\n",
    "    \n",
    "    round = round + 1\n",
    "\n",
    "print(\"No more group to analyze\")\n",
    "print(\"Total_ended: \", Total_ended)\n",
    "print(\"End_nodes: \", End_nodes)"
   ]
  },
  {
   "cell_type": "code",
   "execution_count": null,
   "id": "bc4e9fad",
   "metadata": {},
   "outputs": [],
   "source": []
  }
 ],
 "metadata": {
  "kernelspec": {
   "display_name": "Python 3",
   "language": "python",
   "name": "python3"
  },
  "language_info": {
   "codemirror_mode": {
    "name": "ipython",
    "version": 3
   },
   "file_extension": ".py",
   "mimetype": "text/x-python",
   "name": "python",
   "nbconvert_exporter": "python",
   "pygments_lexer": "ipython3",
   "version": "3.8.8"
  }
 },
 "nbformat": 4,
 "nbformat_minor": 5
}
