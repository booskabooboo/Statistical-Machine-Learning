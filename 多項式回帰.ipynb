{
 "cells": [
  {
   "cell_type": "code",
   "execution_count": 1,
   "id": "92e083d6",
   "metadata": {},
   "outputs": [],
   "source": [
    "import numpy as np\n",
    "\n",
    "np.set_printoptions(precision=2, suppress = True)"
   ]
  },
  {
   "cell_type": "code",
   "execution_count": 2,
   "id": "40ede5f1",
   "metadata": {},
   "outputs": [],
   "source": [
    "N = 500\n",
    "Beta = np.array([2, 1, 3, 0, -0.5])\n",
    "X = np.random.random((N, 2))\n",
    "#X = np.zeros((N, 2))\n",
    "e = np.random.randn(N)\n",
    "\n",
    "#真の線形回帰式\n",
    "y = Beta[0] * X[:, 0] + Beta[1] * X[:, 0]**2 + Beta[2] * X[:, 0]**3 + Beta[3] * X[:, 1] + Beta[4] * X[:, 1]**2 + 0.4*e"
   ]
  },
  {
   "cell_type": "code",
   "execution_count": 3,
   "id": "880c8c35",
   "metadata": {},
   "outputs": [
    {
     "data": {
      "text/plain": [
       "array([ 3.45, -0.5 ,  2.99,  0.36,  1.28,  1.65,  0.93,  5.57,  1.38,\n",
       "        5.14])"
      ]
     },
     "execution_count": 3,
     "metadata": {},
     "output_type": "execute_result"
    }
   ],
   "source": [
    "y[:10]"
   ]
  },
  {
   "cell_type": "code",
   "execution_count": 4,
   "id": "5488e275",
   "metadata": {},
   "outputs": [
    {
     "data": {
      "text/plain": [
       "array([[0.76, 0.57, 0.43, 0.56, 0.31],\n",
       "       [0.02, 0.  , 0.  , 0.92, 0.85],\n",
       "       [0.72, 0.52, 0.37, 0.53, 0.29],\n",
       "       [0.03, 0.  , 0.  , 0.96, 0.92],\n",
       "       [0.54, 0.29, 0.16, 0.17, 0.03],\n",
       "       [0.44, 0.19, 0.08, 0.11, 0.01],\n",
       "       [0.35, 0.13, 0.04, 0.63, 0.39],\n",
       "       [0.93, 0.87, 0.81, 0.14, 0.02],\n",
       "       [0.55, 0.3 , 0.16, 0.26, 0.07],\n",
       "       [0.94, 0.88, 0.83, 0.44, 0.2 ]])"
      ]
     },
     "execution_count": 4,
     "metadata": {},
     "output_type": "execute_result"
    }
   ],
   "source": [
    "X = np.insert(X, 1, X[:, 0]**2, axis = 1)\n",
    "X = np.insert(X, 2, X[:, 0]**3, axis = 1)\n",
    "X = np.insert(X, 4, X[:, 3]**2, axis = 1)\n",
    "\n",
    "X[:10]"
   ]
  },
  {
   "cell_type": "code",
   "execution_count": 5,
   "id": "e46b3b18",
   "metadata": {},
   "outputs": [
    {
     "data": {
      "text/plain": [
       "(500, 5)"
      ]
     },
     "execution_count": 5,
     "metadata": {},
     "output_type": "execute_result"
    }
   ],
   "source": [
    "X.shape"
   ]
  },
  {
   "cell_type": "code",
   "execution_count": 6,
   "id": "b1d1c88a",
   "metadata": {},
   "outputs": [
    {
     "name": "stdout",
     "output_type": "stream",
     "text": [
      "Beta hat:  [ 1.88  1.49  2.51  0.29 -0.84]\n",
      "Beta true:  [ 2.   1.   3.   0.  -0.5]\n"
     ]
    }
   ],
   "source": [
    "Beta_hat = np.linalg.inv(X.T@X)@X.T@y \n",
    "print('Beta hat: ', Beta_hat)\n",
    "print('Beta true: ', Beta)"
   ]
  },
  {
   "cell_type": "code",
   "execution_count": null,
   "id": "cd93c470",
   "metadata": {},
   "outputs": [],
   "source": []
  }
 ],
 "metadata": {
  "kernelspec": {
   "display_name": "Python 3",
   "language": "python",
   "name": "python3"
  },
  "language_info": {
   "codemirror_mode": {
    "name": "ipython",
    "version": 3
   },
   "file_extension": ".py",
   "mimetype": "text/x-python",
   "name": "python",
   "nbconvert_exporter": "python",
   "pygments_lexer": "ipython3",
   "version": "3.8.8"
  }
 },
 "nbformat": 4,
 "nbformat_minor": 5
}
