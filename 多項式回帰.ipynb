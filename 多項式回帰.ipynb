{
 "cells": [
  {
   "cell_type": "code",
   "execution_count": 1,
   "id": "199c4f4a",
   "metadata": {},
   "outputs": [],
   "source": [
    "import numpy as np\n",
    "\n",
    "np.set_printoptions(precision=2, suppress = True)"
   ]
  },
  {
   "cell_type": "code",
   "execution_count": 2,
   "id": "550c02de",
   "metadata": {},
   "outputs": [],
   "source": [
    "N = 500\n",
    "Beta = np.array([2, 1, 3, 0, -0.5])\n",
    "X = np.random.random((N, 2))\n",
    "#X = np.zeros((N, 2))\n",
    "e = np.random.randn(N)\n",
    "\n",
    "#真の線形回帰式\n",
    "y = Beta[0] * X[:, 0] + Beta[1] * X[:, 0]**2 + Beta[2] * X[:, 0]**3 + Beta[3] * X[:, 1] + Beta[4] * X[:, 1]**2 + 0.4*e"
   ]
  },
  {
   "cell_type": "code",
   "execution_count": 3,
   "id": "ca69d86e",
   "metadata": {},
   "outputs": [
    {
     "data": {
      "text/plain": [
       "array([2.01, 1.25, 3.39, 5.8 , 1.83, 0.15, 1.44, 5.69, 0.98, 1.31])"
      ]
     },
     "execution_count": 3,
     "metadata": {},
     "output_type": "execute_result"
    }
   ],
   "source": [
    "y[:10]"
   ]
  },
  {
   "cell_type": "code",
   "execution_count": 4,
   "id": "c4f35519",
   "metadata": {},
   "outputs": [
    {
     "data": {
      "text/plain": [
       "array([[0.59, 0.35, 0.2 , 0.08, 0.01],\n",
       "       [0.33, 0.11, 0.03, 0.4 , 0.16],\n",
       "       [0.73, 0.53, 0.39, 0.1 , 0.01],\n",
       "       [0.98, 0.97, 0.95, 0.3 , 0.09],\n",
       "       [0.44, 0.19, 0.09, 0.73, 0.54],\n",
       "       [0.2 , 0.04, 0.01, 0.91, 0.84],\n",
       "       [0.46, 0.21, 0.1 , 0.59, 0.35],\n",
       "       [0.97, 0.94, 0.91, 0.76, 0.57],\n",
       "       [0.27, 0.07, 0.02, 0.45, 0.21],\n",
       "       [0.37, 0.14, 0.05, 0.61, 0.37]])"
      ]
     },
     "execution_count": 4,
     "metadata": {},
     "output_type": "execute_result"
    }
   ],
   "source": [
    "X = np.insert(X, 1, X[:, 0]**2, axis = 1)\n",
    "X = np.insert(X, 2, X[:, 0]**3, axis = 1)\n",
    "X = np.insert(X, 4, X[:, 3]**2, axis = 1)\n",
    "\n",
    "X[:10]"
   ]
  },
  {
   "cell_type": "code",
   "execution_count": 5,
   "id": "0c723964",
   "metadata": {},
   "outputs": [
    {
     "data": {
      "text/plain": [
       "(500, 5)"
      ]
     },
     "execution_count": 5,
     "metadata": {},
     "output_type": "execute_result"
    }
   ],
   "source": [
    "X.shape"
   ]
  },
  {
   "cell_type": "code",
   "execution_count": 6,
   "id": "718d3f90",
   "metadata": {},
   "outputs": [
    {
     "name": "stdout",
     "output_type": "stream",
     "text": [
      "Beta hat:  [ 1.62  1.57  2.81  0.22 -0.69]\n",
      "Beta true:  [ 2.   1.   3.   0.  -0.5]\n"
     ]
    }
   ],
   "source": [
    "Beta_hat = np.linalg.inv(X.T@X)@X.T@y \n",
    "print('Beta hat: ', Beta_hat)\n",
    "print('Beta true: ', Beta)"
   ]
  },
  {
   "cell_type": "code",
   "execution_count": null,
   "id": "721fb15e",
   "metadata": {},
   "outputs": [],
   "source": []
  }
 ],
 "metadata": {
  "kernelspec": {
   "display_name": "Python 3",
   "language": "python",
   "name": "python3"
  },
  "language_info": {
   "codemirror_mode": {
    "name": "ipython",
    "version": 3
   },
   "file_extension": ".py",
   "mimetype": "text/x-python",
   "name": "python",
   "nbconvert_exporter": "python",
   "pygments_lexer": "ipython3",
   "version": "3.8.8"
  }
 },
 "nbformat": 4,
 "nbformat_minor": 5
}
