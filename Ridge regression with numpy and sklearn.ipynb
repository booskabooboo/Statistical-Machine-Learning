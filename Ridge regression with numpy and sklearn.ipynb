{
 "cells": [
  {
   "cell_type": "code",
   "execution_count": 1,
   "metadata": {},
   "outputs": [],
   "source": [
    "import numpy as np\n",
    "\n",
    "np.set_printoptions(precision=2, suppress = True)"
   ]
  },
  {
   "cell_type": "code",
   "execution_count": 2,
   "metadata": {},
   "outputs": [],
   "source": [
    "N = 500\n",
    "Beta = np.array([7, 10, 3, -6, -15])\n",
    "X = np.random.random((N, 5))\n",
    "#X = np.zeros((N, 5))\n",
    "\n",
    "#真の線形回帰式\n",
    "y = Beta[0] * X[:, 0] + Beta[1] * X[:, 1] + Beta[2] * X[:, 2] + Beta[3] * X[:, 3] + Beta[4] * X[:, 4]"
   ]
  },
  {
   "cell_type": "code",
   "execution_count": 3,
   "metadata": {},
   "outputs": [
    {
     "data": {
      "text/plain": [
       "array([ -0.36,  -5.2 ,  -6.7 , -13.45,  -4.79,   2.44,   4.23,  -9.38,\n",
       "         3.9 , -12.92])"
      ]
     },
     "execution_count": 3,
     "metadata": {},
     "output_type": "execute_result"
    }
   ],
   "source": [
    "y[:10]"
   ]
  },
  {
   "cell_type": "code",
   "execution_count": 4,
   "metadata": {},
   "outputs": [
    {
     "data": {
      "text/plain": [
       "array([[0.53, 0.14, 0.8 , 0.36, 0.38],\n",
       "       [0.06, 0.28, 0.93, 0.09, 0.71],\n",
       "       [0.  , 0.54, 0.19, 0.46, 0.66],\n",
       "       [0.29, 0.12, 0.92, 0.87, 0.95],\n",
       "       [0.31, 0.36, 0.58, 0.6 , 0.58],\n",
       "       [0.11, 0.5 , 0.26, 0.19, 0.19],\n",
       "       [0.33, 0.72, 0.83, 0.91, 0.16],\n",
       "       [0.14, 0.22, 0.2 , 0.64, 0.62],\n",
       "       [0.85, 0.83, 0.11, 0.86, 0.37],\n",
       "       [0.44, 0.16, 0.08, 0.81, 0.86]])"
      ]
     },
     "execution_count": 4,
     "metadata": {},
     "output_type": "execute_result"
    }
   ],
   "source": [
    "X[:10]"
   ]
  },
  {
   "cell_type": "code",
   "execution_count": 5,
   "metadata": {},
   "outputs": [
    {
     "data": {
      "text/plain": [
       "(500, 5)"
      ]
     },
     "execution_count": 5,
     "metadata": {},
     "output_type": "execute_result"
    }
   ],
   "source": [
    "X.shape"
   ]
  },
  {
   "cell_type": "code",
   "execution_count": 6,
   "metadata": {},
   "outputs": [
    {
     "data": {
      "text/plain": [
       "array([0.49, 0.5 , 0.51, 0.54, 0.53])"
      ]
     },
     "execution_count": 6,
     "metadata": {},
     "output_type": "execute_result"
    }
   ],
   "source": [
    "L = 3\n",
    "p = 5\n",
    "\n",
    "X_bar = np.zeros(p)\n",
    "\n",
    "for j in range(p):\n",
    "    X_bar[j]=np.mean(X[:,j])\n",
    "\n",
    "X_bar"
   ]
  },
  {
   "cell_type": "code",
   "execution_count": 7,
   "metadata": {},
   "outputs": [
    {
     "name": "stdout",
     "output_type": "stream",
     "text": [
      "[0.3  0.29 0.28 0.28 0.3 ]\n",
      "[[ 0.11 -1.21  1.01 -0.64 -0.5 ]\n",
      " [-1.47 -0.75  1.47 -1.59  0.6 ]\n",
      " [-1.67  0.14 -1.14 -0.27  0.44]\n",
      " [-0.69 -1.3   1.45  1.21  1.41]\n",
      " [-0.62 -0.47  0.25  0.25  0.17]\n",
      " [-1.31  0.   -0.87 -1.24 -1.13]\n",
      " [-0.55  0.77  1.11  1.34 -1.26]\n",
      " [-1.2  -0.94 -1.1   0.38  0.31]\n",
      " [ 1.2   1.15 -1.42  1.16 -0.54]\n",
      " [-0.18 -1.17 -1.5   1.    1.13]]\n"
     ]
    }
   ],
   "source": [
    "X2 = np.zeros((N, 5))\n",
    "s = np.zeros(p)\n",
    "\n",
    "for j in range(p):\n",
    "    s[j] = np.std(X[:,j])\n",
    "    X2[:,j] = (X[:,j] - X_bar[j]) / s[j]\n",
    "\n",
    "print(s)\n",
    "print(X2[:10])"
   ]
  },
  {
   "cell_type": "code",
   "execution_count": 8,
   "metadata": {},
   "outputs": [
    {
     "data": {
      "text/plain": [
       "-1.1850044272350029"
      ]
     },
     "execution_count": 8,
     "metadata": {},
     "output_type": "execute_result"
    }
   ],
   "source": [
    "y_bar = np.mean(y)\n",
    "y_bar"
   ]
  },
  {
   "cell_type": "code",
   "execution_count": 9,
   "metadata": {},
   "outputs": [
    {
     "data": {
      "text/plain": [
       "array([  0.83,  -4.01,  -5.51, -12.26,  -3.61,   3.63,   5.42,  -8.2 ,\n",
       "         5.09, -11.73])"
      ]
     },
     "execution_count": 9,
     "metadata": {},
     "output_type": "execute_result"
    }
   ],
   "source": [
    "y_2 = y - y_bar\n",
    "y_2[:10]"
   ]
  },
  {
   "cell_type": "code",
   "execution_count": 10,
   "metadata": {},
   "outputs": [],
   "source": [
    "beta_lambda = np.linalg.inv(X2.T@X + N*L*np.eye(p))@X2.T@y_2\n",
    "\n",
    "for j in range(p):\n",
    "    beta_lambda[j]=beta_lambda[j]/s[j]"
   ]
  },
  {
   "cell_type": "code",
   "execution_count": 11,
   "metadata": {},
   "outputs": [
    {
     "data": {
      "text/plain": [
       "array([ 1.96,  3.2 ,  1.11, -1.87, -4.71])"
      ]
     },
     "execution_count": 11,
     "metadata": {},
     "output_type": "execute_result"
    }
   ],
   "source": [
    "beta_lambda"
   ]
  },
  {
   "cell_type": "code",
   "execution_count": 12,
   "metadata": {},
   "outputs": [
    {
     "data": {
      "text/plain": [
       "array([ -0.17,  -4.71,  -6.82, -13.99,  -4.88,   2.94,   4.88,  -9.94,\n",
       "         3.63, -14.11])"
      ]
     },
     "execution_count": 12,
     "metadata": {},
     "output_type": "execute_result"
    }
   ],
   "source": [
    "y_numpy_ridge = y_bar + X2@beta_lambda\n",
    "y_numpy_ridge[:10]"
   ]
  },
  {
   "cell_type": "code",
   "execution_count": 13,
   "metadata": {},
   "outputs": [
    {
     "data": {
      "text/plain": [
       "array([ -0.36,  -5.2 ,  -6.7 , -13.45,  -4.79,   2.44,   4.23,  -9.38,\n",
       "         3.9 , -12.92])"
      ]
     },
     "execution_count": 13,
     "metadata": {},
     "output_type": "execute_result"
    }
   ],
   "source": [
    "y[:10]"
   ]
  },
  {
   "cell_type": "code",
   "execution_count": 14,
   "metadata": {},
   "outputs": [],
   "source": [
    "from sklearn.linear_model import Ridge\n",
    "from sklearn.linear_model import Lasso\n",
    "\n",
    "ridge = Ridge().fit(X, y)\n",
    "lasso = Lasso().fit(X, y)"
   ]
  },
  {
   "cell_type": "code",
   "execution_count": 15,
   "metadata": {},
   "outputs": [
    {
     "data": {
      "text/plain": [
       "array([ -0.38,  -5.11,  -6.57, -13.17,  -4.71,   2.36,   4.13,  -9.2 ,\n",
       "         3.79, -12.66])"
      ]
     },
     "execution_count": 15,
     "metadata": {},
     "output_type": "execute_result"
    }
   ],
   "source": [
    "y_ridge = ridge.predict(X)\n",
    "y_ridge[:10]"
   ]
  },
  {
   "cell_type": "code",
   "execution_count": 16,
   "metadata": {},
   "outputs": [
    {
     "data": {
      "text/plain": [
       "array([-0.58, -1.92, -1.72, -2.91, -1.39,  0.2 ,  0.36, -1.57, -0.53,\n",
       "       -2.56])"
      ]
     },
     "execution_count": 16,
     "metadata": {},
     "output_type": "execute_result"
    }
   ],
   "source": [
    "y_lasso = lasso.predict(X)\n",
    "y_lasso[:10]"
   ]
  },
  {
   "cell_type": "code",
   "execution_count": 17,
   "metadata": {},
   "outputs": [],
   "source": [
    "import matplotlib.pyplot as plt\n",
    "%matplotlib inline"
   ]
  },
  {
   "cell_type": "code",
   "execution_count": 18,
   "metadata": {},
   "outputs": [
    {
     "data": {
      "text/plain": [
       "<matplotlib.legend.Legend at 0x2a8ff146c48>"
      ]
     },
     "execution_count": 18,
     "metadata": {},
     "output_type": "execute_result"
    },
    {
     "data": {
      "image/png": "[encoded data removed]",
      "text/plain": [
       "<Figure size 432x288 with 1 Axes>"
      ]
     },
     "metadata": {
      "needs_background": "light"
     },
     "output_type": "display_data"
    }
   ],
   "source": [
    "Graph_til = 20\n",
    "\n",
    "plt.plot(y[:Graph_til], label = \"True y\")\n",
    "plt.plot(y_numpy_ridge[:Graph_til], label = \"Numpy Ridge\")\n",
    "plt.plot(y_ridge[:Graph_til], label = \"Ridge\")\n",
    "plt.plot(y_lasso[:Graph_til], label = \"Lasso\")\n",
    "plt.legend()"
   ]
  },
  {
   "cell_type": "code",
   "execution_count": null,
   "metadata": {},
   "outputs": [],
   "source": []
  }
 ],
 "metadata": {
  "kernelspec": {
   "display_name": "Python 3",
   "language": "python",
   "name": "python3"
  },
  "language_info": {
   "codemirror_mode": {
    "name": "ipython",
    "version": 3
   },
   "file_extension": ".py",
   "mimetype": "text/x-python",
   "name": "python",
   "nbconvert_exporter": "python",
   "pygments_lexer": "ipython3",
   "version": "3.7.7"
  }
 },
 "nbformat": 4,
 "nbformat_minor": 5
}
